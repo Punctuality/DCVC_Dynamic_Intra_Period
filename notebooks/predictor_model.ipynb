{
 "cells": [
  {
   "cell_type": "code",
   "execution_count": 1,
   "metadata": {
    "metadata": {}
   },
   "outputs": [],
   "source": [
    "import torch\n",
    "import numpy as np\n",
    "import torch.nn as nn\n",
    "import torch.functional as F\n",
    "import json\n",
    "from tqdm.auto import tqdm, trange\n",
    "import matplotlib.pyplot as plt\n",
    "from IPython.display import clear_output"
   ]
  },
  {
   "cell_type": "code",
   "execution_count": 2,
   "metadata": {
    "metadata": {}
   },
   "outputs": [],
   "source": [
    "torch.cuda.empty_cache()"
   ]
  },
  {
   "cell_type": "code",
   "execution_count": 3,
   "metadata": {
    "metadata": {}
   },
   "outputs": [],
   "source": [
    "def conv3x3(in_ch, out_ch, stride=1):\n",
    "    \"\"\"3x3 convolution with padding.\"\"\"\n",
    "    return nn.Conv2d(in_ch, out_ch, kernel_size=3, stride=stride, padding=1)\n",
    "\n",
    "def conv1x1(in_ch, out_ch, stride=1):\n",
    "    \"\"\"1x1 convolution.\"\"\"\n",
    "    return nn.Conv2d(in_ch, out_ch, kernel_size=1, stride=stride)\n",
    "\n",
    "class ResidualBlockWithStride(nn.Module):\n",
    "    \"\"\"Residual block with a stride on the first convolution.\n",
    "\n",
    "    Args:\n",
    "        in_ch (int): number of input channels\n",
    "        out_ch (int): number of output channels\n",
    "        stride (int): stride value (default: 2)\n",
    "    \"\"\"\n",
    "\n",
    "    def __init__(self, in_ch, out_ch, stride=2, inplace=False):\n",
    "        super().__init__()\n",
    "        self.conv1 = conv3x3(in_ch, out_ch, stride=stride)\n",
    "        self.leaky_relu = nn.LeakyReLU(inplace=inplace)\n",
    "        self.conv2 = conv3x3(out_ch, out_ch)\n",
    "        self.leaky_relu2 = nn.LeakyReLU(negative_slope=0.1, inplace=inplace)\n",
    "        if stride != 1:\n",
    "            self.downsample = conv1x1(in_ch, out_ch, stride=stride)\n",
    "        else:\n",
    "            self.downsample = None\n",
    "\n",
    "    def forward(self, x):\n",
    "        identity = x\n",
    "        out = self.conv1(x)\n",
    "        out = self.leaky_relu(out)\n",
    "        out = self.conv2(out)\n",
    "        out = self.leaky_relu2(out)\n",
    "\n",
    "        if self.downsample is not None:\n",
    "            identity = self.downsample(x)\n",
    "\n",
    "        out = out + identity\n",
    "        return out\n",
    "\n",
    "class IntraPredictorModel(nn.Module):\n",
    "    def __init__(self, inplace=False):\n",
    "        super().__init__()\n",
    "        self.in_ch = 128\n",
    "        self.h_ch1 = 192\n",
    "        self.h_ch2 = 256\n",
    "\n",
    "        self.global_h = 8\n",
    "        self.global_w = 8\n",
    "\n",
    "        self.inner_dim1 = 512\n",
    "        self.inner_dim2 = 256\n",
    "    \n",
    "        self.res_block1 = ResidualBlockWithStride(self.in_ch, self.h_ch1, stride=2)\n",
    "        self.res_block2 = ResidualBlockWithStride(self.h_ch1, self.h_ch2, stride=2)\n",
    "        self.global_pooling = nn.AdaptiveAvgPool2d((self.global_w, self.global_h))\n",
    "        self.linear1 = nn.Linear(self.global_h * self.global_w * self.h_ch2, self.inner_dim1)\n",
    "        self.linear2 = nn.Linear(self.inner_dim1, self.inner_dim2)\n",
    "        self.leaky_relu = nn.LeakyReLU(inplace=inplace)\n",
    "        self.linear_out = nn.Linear(self.inner_dim2, 1)\n",
    "        self.softmax = nn.Sigmoid()\n",
    "\n",
    "    def forward(self, x):\n",
    "        x = self.res_block1(x)\n",
    "        x = self.res_block2(x)\n",
    "\n",
    "        x = self.global_pooling(x)\n",
    "\n",
    "        x = x.view(x.size(0), -1)\n",
    "\n",
    "        x = self.linear1(x)\n",
    "        x = self.leaky_relu(x)\n",
    "        x = self.linear2(x)\n",
    "        x = self.leaky_relu(x)\n",
    "        # x, _ = self.lstm(x)\n",
    "        x = self.linear_out(x)\n",
    "        logits = self.softmax(x)\n",
    "\n",
    "        return x, logits"
   ]
  },
  {
   "cell_type": "code",
   "execution_count": 4,
   "metadata": {
    "metadata": {}
   },
   "outputs": [],
   "source": [
    "with open(\"../media/syntetic-low/long_large_predictor_dataset_0/reference_points.json\", \"r\") as f:\n",
    "    intra_ref_points = json.load(f)"
   ]
  },
  {
   "cell_type": "code",
   "execution_count": 5,
   "metadata": {
    "metadata": {}
   },
   "outputs": [],
   "source": [
    "def enrich_ref_points(ref_points, distance=64):\n",
    "    enriched = []\n",
    "    all_points = set(ref_points)\n",
    "    for idx in range(1, len(ref_points)):\n",
    "        prev = ref_points[idx - 1]\n",
    "        curr = ref_points[idx]\n",
    "        all_points.update(np.arange(prev, curr, distance, dtype=int))\n",
    "    \n",
    "    return sorted([int(p) for p in all_points])"
   ]
  },
  {
   "cell_type": "code",
   "execution_count": 6,
   "metadata": {
    "metadata": {}
   },
   "outputs": [],
   "source": [
    "all_ref_points = enrich_ref_points(intra_ref_points)"
   ]
  },
  {
   "cell_type": "code",
   "execution_count": 7,
   "metadata": {},
   "outputs": [],
   "source": [
    "all_ref_points = intra_ref_points"
   ]
  },
  {
   "cell_type": "markdown",
   "metadata": {
    "metadata": {}
   },
   "source": [
    "```python\n",
    "frames_data = {\n",
    "    \"intra_frames\": intra_ref_points,\n",
    "    \"refresh_frames\": all_ref_points\n",
    "}\n",
    "\n",
    "with open(\"../media/syntetic/predictor_dataset_0/frames.json\", \"w\") as f:\n",
    "    json.dump(frames_data, f)\n",
    "```"
   ]
  },
  {
   "cell_type": "markdown",
   "metadata": {},
   "source": [
    "### Train loop with loaded inputs. \n",
    "\n",
    "Epochs should consist of going through the whole set of batches.\n",
    "Batch is consisting of frames (contexts of those frames) within the range of the two neighboring reference points (`all_ref_points`).\n",
    "Loss function is cross entropy between frame types (0 - non-reference, 1 - reference). Cross entropy should be weighted, so that the punishment for not guessing the reference frame is higher."
   ]
  },
  {
   "cell_type": "code",
   "execution_count": 4,
   "metadata": {
    "metadata": {}
   },
   "outputs": [],
   "source": [
    "loaded = torch.load(\"../output/window_large_predictor_contexts_low/contexts.pth\")\n",
    "# loaded = torch.load(\"../output/predictor_contexts/contexts.pth\")"
   ]
  },
  {
   "cell_type": "code",
   "execution_count": 5,
   "metadata": {
    "metadata": {}
   },
   "outputs": [],
   "source": [
    "loaded = torch.cat([torch.zeros_like(loaded[0]).unsqueeze(0), loaded], dim=0).to(torch.float32)"
   ]
  },
  {
   "cell_type": "code",
   "execution_count": 6,
   "metadata": {
    "metadata": {}
   },
   "outputs": [],
   "source": [
    "# ref_frame_weight = 3\n",
    "\n",
    "dist_alpha = 1\n",
    "dist_beta = 1.2\n",
    "non_ref_distribution = torch.distributions.Beta(dist_alpha, dist_beta)\n",
    "\n",
    "def criterion_for_batch(batch_size, device='cpu'):\n",
    "  weights = (torch.exp(non_ref_distribution.log_prob(torch.linspace(0, 1, batch_size - 1))) / (dist_alpha * 2)) + 0.5\n",
    "  \n",
    "  # Zero weight for random samples\n",
    "\n",
    "  # downsample_rate = 0.7\n",
    "  # weights = torch.random.shuffle(\n",
    "  #   torch.cat([\n",
    "  #     torch.ones()\n",
    "  #   ])\n",
    "  # )\n",
    "\n",
    "  weights = torch.cat([weights, torch.tensor([batch_size / 4])]) / batch_size\n",
    "\n",
    "  # Punish FP for 0s and FN for 1s\n",
    "  # pos_weight = torch.ones_like(weights) * 5\n",
    "  return nn.BCEWithLogitsLoss(weight=weights).to(device)"
   ]
  },
  {
   "cell_type": "code",
   "execution_count": 7,
   "metadata": {},
   "outputs": [
    {
     "data": {
      "image/png": "[encoded data removed]",
      "text/plain": [
       "<Figure size 1000x500 with 1 Axes>"
      ]
     },
     "metadata": {},
     "output_type": "display_data"
    }
   ],
   "source": [
    "batch_size = 64\n",
    "weights = (torch.exp(non_ref_distribution.log_prob(torch.linspace(0, 1, batch_size - 1))) / (dist_alpha * 2)) + 0.5\n",
    "weights = torch.cat([weights, torch.tensor([batch_size / 4])]) / batch_size\n",
    "\n",
    "plt.figure(figsize=(10, 5))\n",
    "\n",
    "plt.yscale(\"logit\")\n",
    "plt.title(\"Batch weights\")\n",
    "plt.grid()\n",
    "plt.axhline(0, color='k', linestyle='--')\n",
    "plt.axvline(0, color='k', linestyle='--')\n",
    "\n",
    "plt.plot(weights.numpy(), label=\"Batch weights\", marker='x')\n",
    "plt.xlabel(\"Frame index (in batch)\")\n",
    "plt.ylabel(\"Frame BCE weight\")\n",
    "plt.legend()\n",
    "plt.show()"
   ]
  },
  {
   "cell_type": "code",
   "execution_count": 8,
   "metadata": {},
   "outputs": [],
   "source": [
    "with open(\"../output/window_large_predictor_contexts_low/result.json\", \"r\") as res_f:\n",
    "  result_json = json.load(res_f)"
   ]
  },
  {
   "cell_type": "code",
   "execution_count": 9,
   "metadata": {},
   "outputs": [],
   "source": [
    "frame_types = np.array(result_json['window_large_predictor_contexts_low']['long_large_predictor_dataset_0']['000']['frame_type'])\n",
    "\n",
    "all_ref_points = [1] + list(np.where(frame_types > 1)[0] + 1)"
   ]
  },
  {
   "cell_type": "code",
   "execution_count": 10,
   "metadata": {},
   "outputs": [
    {
     "name": "stdout",
     "output_type": "stream",
     "text": [
      "340\n"
     ]
    }
   ],
   "source": [
    "ref_ranges = []\n",
    "\n",
    "start_rng = None\n",
    "stop_rng = None\n",
    "for idx in range(len(frame_types)):\n",
    "  if frame_types[idx] == 0 or frame_types[idx] == 2:\n",
    "    start_rng = idx\n",
    "  elif frame_types[idx] == 3:\n",
    "    stop_rng = idx  \n",
    "    if start_rng is not None and stop_rng is not None:\n",
    "      ref_ranges.append([start_rng + 1, stop_rng + 1])\n",
    "      start_rng = idx + 1\n",
    "      stop_rng = None\n",
    "\n",
    "print(len(ref_ranges))"
   ]
  },
  {
   "cell_type": "code",
   "execution_count": 11,
   "metadata": {},
   "outputs": [],
   "source": [
    "all_ref_points = ref_ranges"
   ]
  },
  {
   "cell_type": "code",
   "execution_count": 12,
   "metadata": {},
   "outputs": [],
   "source": [
    "device = torch.device(\"cuda\" if torch.cuda.is_available() else \"cpu\")"
   ]
  },
  {
   "cell_type": "code",
   "execution_count": 13,
   "metadata": {},
   "outputs": [],
   "source": [
    "train_proc = int(len(all_ref_points) * 0.8)\n",
    "test_proc = len(all_ref_points) - train_proc"
   ]
  },
  {
   "cell_type": "code",
   "execution_count": 14,
   "metadata": {},
   "outputs": [
    {
     "data": {
      "text/plain": [
       "torch.Size([40000, 128, 23, 40])"
      ]
     },
     "execution_count": 14,
     "metadata": {},
     "output_type": "execute_result"
    }
   ],
   "source": [
    "loaded.size()"
   ]
  },
  {
   "cell_type": "code",
   "execution_count": 15,
   "metadata": {},
   "outputs": [],
   "source": [
    "train_idx, test_idx = all_ref_points[:train_proc], all_ref_points[train_proc:]"
   ]
  },
  {
   "cell_type": "code",
   "execution_count": 37,
   "metadata": {
    "metadata": {}
   },
   "outputs": [],
   "source": [
    "def train(model, epochs, device, ref_points, optimizer):\n",
    "    losses = []\n",
    "\n",
    "    for epoch in trange(epochs):\n",
    "        epoch_loss = []\n",
    "        range_mode = True if type(ref_points[0]) is list else False\n",
    "\n",
    "        train_indicies = list(range(0 if range_mode else 1, len(ref_points)))\n",
    "        np.random.shuffle(train_indicies)\n",
    "        for idx in train_indicies:\n",
    "            if range_mode:\n",
    "                start_frame = max(ref_points[idx][0] - 1, 1)\n",
    "                end_frame = ref_points[idx][1] - 1\n",
    "            else:\n",
    "                start_frame = max(ref_points[idx - 1] - 1, 1) # Skip first intra frame from sequence\n",
    "                end_frame = ref_points[idx] - 1\n",
    "\n",
    "            batch_size = end_frame - start_frame + 1\n",
    "            criterion = criterion_for_batch(batch_size, device)\n",
    "\n",
    "            batch = loaded[start_frame:end_frame + 1]\n",
    "            batch = batch.to(device)\n",
    "\n",
    "            # fst_frame = batch[0].unsqueeze(0)\n",
    "            # batch = batch[1:]\n",
    "\n",
    "            optimizer.zero_grad()\n",
    "            output, _ = model(batch)\n",
    "            true_labels = torch.cat([torch.zeros(batch_size - 1), torch.ones(1)]).to(torch.float32).to(device)\n",
    "\n",
    "            # print(\"{} {}\".format(output.squeeze(1).size(), true_labels.size()))\n",
    "            # print(\"{}\\n{}\".format(output.squeeze(1), true_labels))\n",
    "\n",
    "            loss = criterion(output.squeeze(1), true_labels)\n",
    "            loss.backward()\n",
    "            optimizer.step()\n",
    "            epoch_loss.append(loss.item())\n",
    "        \n",
    "        losses.append(np.mean(epoch_loss))\n",
    "        epoch_loss = []\n",
    "\n",
    "        if epoch % 5 == 0:\n",
    "\n",
    "            clear_output(wait=True)\n",
    "\n",
    "            plt.figure(figsize=(15,15))\n",
    "\n",
    "            total_rows = 2 if range_mode else 3\n",
    "\n",
    "            plt.subplot(total_rows, 1, 1)\n",
    "            plt.plot(losses, label=\"Weighted BCELoss\", linewidth=0.8, marker=\"x\")\n",
    "            plt.grid(True)\n",
    "            plt.legend()\n",
    "            plt.axhline(0, color=\"k\", linestyle=\"--\")\n",
    "            plt.axvline(0, color=\"k\", linestyle=\"--\")\n",
    "\n",
    "            plt.subplot(total_rows, 1, 2)\n",
    "\n",
    "            # with torch.no_grad():\n",
    "            #     _, result = model(loaded[train_idx[0]], loaded[train_idx[0] + 1: train_idx[10]])\n",
    "            #     result = result.detach().cpu()\n",
    "            #     # plt.figure(figsize=(15,5))\n",
    "            #     plt.grid(True)\n",
    "            #     plt.scatter(torch.arange(train_idx[0] + 1, train_idx[10]), result, alpha=result.squeeze(1) / 10 * 8 + 0.2)\n",
    "            #     for idx in train_idx[0:10]:\n",
    "            #         plt.axvline(idx, c = 'r', alpha = 0.3)\n",
    "\n",
    "            # plt.subplot(3, 1, 3)\n",
    "\n",
    "            # with torch.no_grad():\n",
    "            #     _, result = model(loaded[train_idx[-1]], loaded[train_idx[-1] + 1:])\n",
    "            #     result = result.detach().cpu()\n",
    "            #     # plt.figure(figsize=(15,5))\n",
    "            #     plt.grid(True)\n",
    "            #     plt.scatter(torch.arange(train_idx[-1] + 1, loaded.size(0)), result, alpha=result.squeeze(1) / 10 * 8 + 0.2)\n",
    "            #     for idx in test_idx:\n",
    "            #         plt.axvline(idx, c = 'r', alpha = 0.3)\n",
    "\n",
    "            with torch.no_grad():\n",
    "                start = train_idx[0][0] if range_mode else train_idx[0]\n",
    "                end = train_idx[10][1] if range_mode else train_idx[10]\n",
    "                data = loaded[start: end]\n",
    "                data = data.to(device)\n",
    "                _, result = model(data)\n",
    "                result = result.detach().cpu()\n",
    "                del(data)\n",
    "                # plt.figure(figsize=(15,5))\n",
    "                plt.grid(True)\n",
    "                plt.scatter(torch.arange(start, end), result, alpha=result.squeeze(1) / 10 * 8 + 0.2)\n",
    "                for idx in train_idx[0:10]:\n",
    "                    plt.axvline(idx[1] if range_mode else idx, c = 'r', alpha = 0.3)\n",
    "\n",
    "\n",
    "            if not range_mode:\n",
    "                plt.subplot(total_rows, 1, 3)\n",
    "                with torch.no_grad():\n",
    "                    data = loaded[train_idx[-1]:]\n",
    "                    data = data.to(device)\n",
    "                    _, result = model(data)\n",
    "                    result = result.detach().cpu()\n",
    "                    del(data)\n",
    "                    # plt.figure(figsize=(15,5))\n",
    "                    plt.grid(True)\n",
    "                    plt.scatter(torch.arange(train_idx[-1], loaded.size(0)), result, alpha=result.squeeze(1) / 10 * 8 + 0.2)\n",
    "                    for idx in test_idx:\n",
    "                        plt.axvline(idx, c = 'r', alpha = 0.3)\n",
    "\n",
    "            plt.show()\n",
    "\n",
    "\n",
    "            print(\"Epoch: {} Loss: {}\".format(epoch, losses[-1]))\n",
    "    \n",
    "    return losses"
   ]
  },
  {
   "cell_type": "code",
   "execution_count": 38,
   "metadata": {
    "metadata": {}
   },
   "outputs": [
    {
     "data": {
      "image/png": "[encoded data removed]",
      "text/plain": [
       "<Figure size 1500x1500 with 2 Axes>"
      ]
     },
     "metadata": {},
     "output_type": "display_data"
    },
    {
     "name": "stdout",
     "output_type": "stream",
     "text": [
      "Epoch: 30 Loss: 5.384672412651484e-05\n"
     ]
    },
    {
     "ename": "KeyboardInterrupt",
     "evalue": "",
     "output_type": "error",
     "traceback": [
      "\u001b[0;31m---------------------------------------------------------------------------\u001b[0m",
      "\u001b[0;31mKeyboardInterrupt\u001b[0m                         Traceback (most recent call last)",
      "Cell \u001b[0;32mIn[38], line 4\u001b[0m\n\u001b[1;32m      1\u001b[0m model \u001b[38;5;241m=\u001b[39m IntraPredictorModel()\u001b[38;5;241m.\u001b[39mto(torch\u001b[38;5;241m.\u001b[39mfloat32)\u001b[38;5;241m.\u001b[39mto(device)\n\u001b[1;32m      2\u001b[0m optimizer \u001b[38;5;241m=\u001b[39m torch\u001b[38;5;241m.\u001b[39moptim\u001b[38;5;241m.\u001b[39mAdam(model\u001b[38;5;241m.\u001b[39mparameters(), lr\u001b[38;5;241m=\u001b[39m\u001b[38;5;241m1e-4\u001b[39m)\n\u001b[0;32m----> 4\u001b[0m l \u001b[38;5;241m=\u001b[39m \u001b[43mtrain\u001b[49m\u001b[43m(\u001b[49m\u001b[43mmodel\u001b[49m\u001b[43m,\u001b[49m\u001b[43m \u001b[49m\u001b[38;5;241;43m100\u001b[39;49m\u001b[43m,\u001b[49m\u001b[43m \u001b[49m\u001b[43mdevice\u001b[49m\u001b[43m,\u001b[49m\u001b[43m \u001b[49m\u001b[43mtrain_idx\u001b[49m\u001b[43m,\u001b[49m\u001b[43m \u001b[49m\u001b[43moptimizer\u001b[49m\u001b[43m)\u001b[49m\n",
      "Cell \u001b[0;32mIn[37], line 22\u001b[0m, in \u001b[0;36mtrain\u001b[0;34m(model, epochs, device, ref_points, optimizer)\u001b[0m\n\u001b[1;32m     19\u001b[0m criterion \u001b[38;5;241m=\u001b[39m criterion_for_batch(batch_size, device)\n\u001b[1;32m     21\u001b[0m batch \u001b[38;5;241m=\u001b[39m loaded[start_frame:end_frame \u001b[38;5;241m+\u001b[39m \u001b[38;5;241m1\u001b[39m]\n\u001b[0;32m---> 22\u001b[0m batch \u001b[38;5;241m=\u001b[39m \u001b[43mbatch\u001b[49m\u001b[38;5;241;43m.\u001b[39;49m\u001b[43mto\u001b[49m\u001b[43m(\u001b[49m\u001b[43mdevice\u001b[49m\u001b[43m)\u001b[49m\n\u001b[1;32m     24\u001b[0m \u001b[38;5;66;03m# fst_frame = batch[0].unsqueeze(0)\u001b[39;00m\n\u001b[1;32m     25\u001b[0m \u001b[38;5;66;03m# batch = batch[1:]\u001b[39;00m\n\u001b[1;32m     27\u001b[0m optimizer\u001b[38;5;241m.\u001b[39mzero_grad()\n",
      "\u001b[0;31mKeyboardInterrupt\u001b[0m: "
     ]
    }
   ],
   "source": [
    "model = IntraPredictorModel().to(torch.float32).to(device)\n",
    "optimizer = torch.optim.Adam(model.parameters(), lr=1e-4)\n",
    "\n",
    "l = train(model, 100, device, train_idx, optimizer)"
   ]
  },
  {
   "cell_type": "code",
   "execution_count": 16,
   "metadata": {
    "metadata": {}
   },
   "outputs": [],
   "source": [
    "from sklearn.metrics import f1_score, accuracy_score"
   ]
  },
  {
   "cell_type": "code",
   "execution_count": 17,
   "metadata": {},
   "outputs": [],
   "source": [
    "range_mode = True if type(train_idx[0]) is list else False"
   ]
  },
  {
   "cell_type": "code",
   "execution_count": 63,
   "metadata": {},
   "outputs": [],
   "source": [
    "import gc\n",
    "\n",
    "gc.collect()\n",
    "\n",
    "torch.cuda.empty_cache()"
   ]
  },
  {
   "cell_type": "code",
   "execution_count": 66,
   "metadata": {},
   "outputs": [
    {
     "name": "stdout",
     "output_type": "stream",
     "text": [
      "|===========================================================================|\n",
      "|                  PyTorch CUDA memory summary, device ID 0                 |\n",
      "|---------------------------------------------------------------------------|\n",
      "|            CUDA OOMs: 29           |        cudaMalloc retries: 30        |\n",
      "|===========================================================================|\n",
      "|        Metric         | Cur Usage  | Peak Usage | Tot Alloc  | Tot Freed  |\n",
      "|---------------------------------------------------------------------------|\n",
      "| Allocated memory      |  20298 MiB |  20298 MiB |   9451 GiB |   9431 GiB |\n",
      "|       from large pool |  20291 MiB |  20291 MiB |   9394 GiB |   9374 GiB |\n",
      "|       from small pool |      6 MiB |     15 MiB |     57 GiB |     57 GiB |\n",
      "|---------------------------------------------------------------------------|\n",
      "| Active memory         |  20298 MiB |  20298 MiB |   9451 GiB |   9431 GiB |\n",
      "|       from large pool |  20291 MiB |  20291 MiB |   9394 GiB |   9374 GiB |\n",
      "|       from small pool |      6 MiB |     15 MiB |     57 GiB |     57 GiB |\n",
      "|---------------------------------------------------------------------------|\n",
      "| Requested memory      |  20293 MiB |  20293 MiB |   9422 GiB |   9402 GiB |\n",
      "|       from large pool |  20287 MiB |  20287 MiB |   9365 GiB |   9345 GiB |\n",
      "|       from small pool |      6 MiB |     15 MiB |     57 GiB |     57 GiB |\n",
      "|---------------------------------------------------------------------------|\n",
      "| GPU reserved memory   |  22638 MiB |  22646 MiB |  35082 MiB |  12444 MiB |\n",
      "|       from large pool |  22624 MiB |  22628 MiB |  35064 MiB |  12440 MiB |\n",
      "|       from small pool |     14 MiB |     18 MiB |     18 MiB |      4 MiB |\n",
      "|---------------------------------------------------------------------------|\n",
      "| Non-releasable memory |   2339 MiB |   2402 MiB |   6741 GiB |   6739 GiB |\n",
      "|       from large pool |   2332 MiB |   2395 MiB |   6682 GiB |   6680 GiB |\n",
      "|       from small pool |      7 MiB |      7 MiB |     58 GiB |     58 GiB |\n",
      "|---------------------------------------------------------------------------|\n",
      "| Allocations           |      92    |     176    |     874 K  |     874 K  |\n",
      "|       from large pool |      39    |      51    |     429 K  |     429 K  |\n",
      "|       from small pool |      53    |     127    |     444 K  |     444 K  |\n",
      "|---------------------------------------------------------------------------|\n",
      "| Active allocs         |      92    |     176    |     874 K  |     874 K  |\n",
      "|       from large pool |      39    |      51    |     429 K  |     429 K  |\n",
      "|       from small pool |      53    |     127    |     444 K  |     444 K  |\n",
      "|---------------------------------------------------------------------------|\n",
      "| GPU reserved segments |      32    |      54    |      60    |      28    |\n",
      "|       from large pool |      25    |      45    |      51    |      26    |\n",
      "|       from small pool |       7    |       9    |       9    |       2    |\n",
      "|---------------------------------------------------------------------------|\n",
      "| Non-releasable allocs |      37    |      38    |  386209    |  386172    |\n",
      "|       from large pool |      23    |      23    |  217838    |  217815    |\n",
      "|       from small pool |      14    |      21    |  168371    |  168357    |\n",
      "|---------------------------------------------------------------------------|\n",
      "| Oversize allocations  |       0    |       0    |       0    |       0    |\n",
      "|---------------------------------------------------------------------------|\n",
      "| Oversize GPU segments |       0    |       0    |       0    |       0    |\n",
      "|===========================================================================|\n",
      "\n"
     ]
    }
   ],
   "source": [
    "print(torch.cuda.memory_summary())"
   ]
  },
  {
   "cell_type": "code",
   "execution_count": 20,
   "metadata": {},
   "outputs": [],
   "source": [
    "last_train = train_idx[-1][1] if range_mode else train_idx[-1]\n",
    "\n",
    "_, eval_result = model(loaded[last_train:].to(device))\n",
    "eval_result = eval_result.detach().cpu().squeeze(1)\n",
    "\n",
    "target = torch.zeros_like(eval_result)\n",
    "target[(torch.tensor(test_idx)[:, 1] if range_mode else torch.tensor(test_idx)) - last_train - 1 ] = 1"
   ]
  },
  {
   "cell_type": "code",
   "execution_count": 22,
   "metadata": {},
   "outputs": [
    {
     "name": "stdout",
     "output_type": "stream",
     "text": [
      "Proc of correct switches: 0.97\n"
     ]
    }
   ],
   "source": [
    "currect_switches = (eval_result > 0.5)[torch.tensor(test_idx) - 1 - last_train].sum() / len(test_idx)\n",
    "\n",
    "print(f\"Proc of correct switches: {currect_switches:.2f}\")"
   ]
  },
  {
   "cell_type": "code",
   "execution_count": 23,
   "metadata": {},
   "outputs": [
    {
     "data": {
      "text/plain": [
       "(0.9976369812435386, 0.8873239436619719)"
      ]
     },
     "execution_count": 23,
     "metadata": {},
     "output_type": "execute_result"
    }
   ],
   "source": [
    "accuracy_score(target, eval_result > 0.5), f1_score(target, eval_result > 0.5)"
   ]
  },
  {
   "cell_type": "code",
   "execution_count": 25,
   "metadata": {},
   "outputs": [],
   "source": [
    "test_low = torch.load(\"../output/predictor_contexts_low/contexts.pth\")\n",
    "test_low = torch.cat([torch.zeros_like(test_low[0]).unsqueeze(0), test_low], dim=0).to(torch.float32).to(device)"
   ]
  },
  {
   "cell_type": "code",
   "execution_count": 26,
   "metadata": {},
   "outputs": [],
   "source": [
    "with open(\"../media/syntetic-low/predictor_dataset_0/reference_points.json\", \"r\") as f:\n",
    "    test_ref_points = json.load(f)\n",
    "\n",
    "# test_ref_points = enrich_ref_points(test_ref_points)"
   ]
  },
  {
   "cell_type": "code",
   "execution_count": 27,
   "metadata": {},
   "outputs": [],
   "source": [
    "_, test_eval_result = model(test_low)\n",
    "test_eval_result = test_eval_result.detach().cpu().squeeze(1)\n",
    "\n",
    "test_target = torch.zeros_like(test_eval_result)\n",
    "test_target[torch.tensor(test_ref_points) - 1] = 1"
   ]
  },
  {
   "cell_type": "code",
   "execution_count": 28,
   "metadata": {},
   "outputs": [
    {
     "name": "stdout",
     "output_type": "stream",
     "text": [
      "Proc of correct TEST switches: 0.89\n"
     ]
    }
   ],
   "source": [
    "test_currect_switches = (test_eval_result > 0.8)[torch.tensor(test_ref_points) - 1].sum() / len(test_ref_points)\n",
    "\n",
    "print(f\"Proc of correct TEST switches: {test_currect_switches:.2f}\")"
   ]
  },
  {
   "cell_type": "code",
   "execution_count": 24,
   "metadata": {},
   "outputs": [],
   "source": [
    "def perf_measure(y_actual, y_hat):\n",
    "    TP = 0\n",
    "    FP = 0\n",
    "    TN = 0\n",
    "    FN = 0\n",
    "\n",
    "    for i in range(len(y_hat)): \n",
    "        if y_actual[i]==y_hat[i]==1:\n",
    "           TP += 1\n",
    "        if y_hat[i]==1 and y_actual[i]!=y_hat[i]:\n",
    "           FP += 1\n",
    "        if y_actual[i]==y_hat[i]==0:\n",
    "           TN += 1\n",
    "        if y_hat[i]==0 and y_actual[i]!=y_hat[i]:\n",
    "           FN += 1\n",
    "\n",
    "    return(TP, FP, TN, FN)"
   ]
  },
  {
   "cell_type": "code",
   "execution_count": 25,
   "metadata": {},
   "outputs": [
    {
     "name": "stdout",
     "output_type": "stream",
     "text": [
      "Train results: TP: 63 FP: 11 TN: 6692 FN: 5. Actual positives: 68.0\n"
     ]
    }
   ],
   "source": [
    "train_measure = perf_measure(target, (eval_result > 0.5))\n",
    "\n",
    "print(\"Train results: TP: {} FP: {} TN: {} FN: {}. Actual positives: {}\".format(*train_measure, target.sum()))"
   ]
  },
  {
   "cell_type": "code",
   "execution_count": 31,
   "metadata": {},
   "outputs": [
    {
     "name": "stdout",
     "output_type": "stream",
     "text": [
      "Test results: TP: 17 FP: 30 TN: 2952 FN: 1. Actual positives: 18.0\n"
     ]
    }
   ],
   "source": [
    "test_measure = perf_measure(test_target, (test_eval_result > 0.5))\n",
    "\n",
    "print(\"Test results: TP: {} FP: {} TN: {} FN: {}. Actual positives: {}\".format(*test_measure, test_target.sum()))"
   ]
  },
  {
   "cell_type": "code",
   "execution_count": 67,
   "metadata": {},
   "outputs": [],
   "source": [
    "# save model\n",
    "model = model.to(torch.device('cpu'))\n",
    "torch.save(model.state_dict(), \"../checkpoints/intra_model_2/test.pth\")"
   ]
  },
  {
   "cell_type": "code",
   "execution_count": 19,
   "metadata": {},
   "outputs": [],
   "source": [
    "# load_model\n",
    "\n",
    "model = IntraPredictorModel()\n",
    "model.load_state_dict(torch.load(\"../checkpoints/intra_model_2/test.pth\"))\n",
    "model = model.to(device)"
   ]
  },
  {
   "cell_type": "code",
   "execution_count": null,
   "metadata": {},
   "outputs": [],
   "source": [
    "x = list(range(0,10))"
   ]
  },
  {
   "cell_type": "code",
   "execution_count": null,
   "metadata": {},
   "outputs": [],
   "source": [
    "np.percentile(x, 20)"
   ]
  },
  {
   "cell_type": "code",
   "execution_count": null,
   "metadata": {},
   "outputs": [],
   "source": [
    "np.percentile(x[12:14], 50)"
   ]
  }
 ],
 "metadata": {
  "kernelspec": {
   "display_name": "venv",
   "language": "python",
   "name": "python3"
  },
  "language_info": {
   "codemirror_mode": {
    "name": "ipython",
    "version": 3
   },
   "file_extension": ".py",
   "mimetype": "text/x-python",
   "name": "python",
   "nbconvert_exporter": "python",
   "pygments_lexer": "ipython3",
   "version": "3.10.12"
  }
 },
 "nbformat": 4,
 "nbformat_minor": 2
}
