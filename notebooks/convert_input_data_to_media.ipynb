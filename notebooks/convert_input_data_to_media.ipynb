{
 "cells": [
  {
   "metadata": {
    "ExecuteTime": {
     "end_time": "2024-04-16T23:23:46.149771Z",
     "start_time": "2024-04-16T23:23:46.146940Z"
    }
   },
   "cell_type": "code",
   "source": "%cd /Users/sdfedorov/Documents/ITMO/Master/Thesis/Dynamic_Intra",
   "id": "e45bebbcb49f6fc5",
   "outputs": [
    {
     "name": "stdout",
     "output_type": "stream",
     "text": [
      "/Users/sdfedorov/Documents/ITMO/Master/Thesis/Dynamic_Intra\n"
     ]
    }
   ],
   "execution_count": 10
  },
  {
   "metadata": {
    "ExecuteTime": {
     "end_time": "2024-04-16T23:23:48.090480Z",
     "start_time": "2024-04-16T23:23:48.087710Z"
    }
   },
   "cell_type": "code",
   "source": [
    "%%writefile ./configs/sample_rgb_run.json\n",
    "{\n",
    "    \"root_path\": \"/Users/sdfedorov/Documents/ITMO/Master/Thesis/Dynamic_Intra/media\",\n",
    "    \"test_classes\": {\n",
    "        \"UVG\": {\n",
    "            \"test\": 1,\n",
    "            \"base_path\": \"\",\n",
    "            \"src_type\": \"png\",\n",
    "            \"sequences\": {\n",
    "                \"Beauty_1920x1080_120fps_420_8bit_YUV\": {\"width\": 1920, \"height\": 1080, \"frames\": 600, \"gop\": 32}\n",
    "            }\n",
    "        }\n",
    "    }\n",
    "}"
   ],
   "id": "f63942ff8c9a96dd",
   "outputs": [
    {
     "name": "stdout",
     "output_type": "stream",
     "text": [
      "Writing ./configs/sample_rgb_run.json\n"
     ]
    }
   ],
   "execution_count": 11
  },
  {
   "cell_type": "code",
   "id": "initial_id",
   "metadata": {
    "collapsed": true,
    "ExecuteTime": {
     "end_time": "2024-04-16T23:23:50.792954Z",
     "start_time": "2024-04-16T23:23:49.357844Z"
    }
   },
   "source": "from test_data_to_png import convert_one_seq_to_png ",
   "outputs": [],
   "execution_count": 12
  },
  {
   "metadata": {
    "ExecuteTime": {
     "end_time": "2024-04-16T23:35:05.208783Z",
     "start_time": "2024-04-16T23:24:36.355644Z"
    }
   },
   "cell_type": "code",
   "source": [
    "src_path = \"input/Beauty_1920x1080_120fps_420_8bit_YUV.yuv\"\n",
    "width = 1920\n",
    "height = 1080\n",
    "dst_path = \"media/UVG/Beauty_1920x1080_120fps_420_8bit_YUV\"\n",
    "convert_one_seq_to_png(src_path, width, height, dst_path)"
   ],
   "id": "96321a0433d83a9e",
   "outputs": [
    {
     "name": "stdout",
     "output_type": "stream",
     "text": [
      "input/Beauty_1920x1080_120fps_420_8bit_YUV.yuv 600\n"
     ]
    }
   ],
   "execution_count": 13
  },
  {
   "metadata": {},
   "cell_type": "code",
   "outputs": [],
   "execution_count": null,
   "source": "",
   "id": "c22945022ba78655"
  }
 ],
 "metadata": {
  "kernelspec": {
   "display_name": "Python 3",
   "language": "python",
   "name": "python3"
  },
  "language_info": {
   "codemirror_mode": {
    "name": "ipython",
    "version": 2
   },
   "file_extension": ".py",
   "mimetype": "text/x-python",
   "name": "python",
   "nbconvert_exporter": "python",
   "pygments_lexer": "ipython2",
   "version": "2.7.6"
  }
 },
 "nbformat": 4,
 "nbformat_minor": 5
}
