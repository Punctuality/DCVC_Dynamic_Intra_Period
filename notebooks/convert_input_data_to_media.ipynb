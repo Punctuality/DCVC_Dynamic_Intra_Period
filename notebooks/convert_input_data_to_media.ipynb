{
 "cells": [
  {
   "cell_type": "code",
   "execution_count": 10,
   "id": "e45bebbcb49f6fc5",
   "metadata": {
    "ExecuteTime": {
     "end_time": "2024-04-16T23:23:46.149771Z",
     "start_time": "2024-04-16T23:23:46.146940Z"
    }
   },
   "outputs": [
    {
     "name": "stdout",
     "output_type": "stream",
     "text": [
      "/Users/sdfedorov/Documents/ITMO/Master/Thesis/Dynamic_Intra\n"
     ]
    }
   ],
   "source": [
    "%cd /Users/sdfedorov/Documents/ITMO/Master/Thesis/Dynamic_Intra"
   ]
  },
  {
   "cell_type": "code",
   "execution_count": 11,
   "id": "f63942ff8c9a96dd",
   "metadata": {
    "ExecuteTime": {
     "end_time": "2024-04-16T23:23:48.090480Z",
     "start_time": "2024-04-16T23:23:48.087710Z"
    }
   },
   "outputs": [
    {
     "name": "stdout",
     "output_type": "stream",
     "text": [
      "Writing ./configs/sample_rgb_run.json\n"
     ]
    }
   ],
   "source": [
    "%%writefile ./configs/sample_rgb_run.json\n",
    "{\n",
    "    \"root_path\": \"/Users/sdfedorov/Documents/ITMO/Master/Thesis/Dynamic_Intra/media\",\n",
    "    \"test_classes\": {\n",
    "        \"UVG\": {\n",
    "            \"test\": 1,\n",
    "            \"base_path\": \"\",\n",
    "            \"src_type\": \"png\",\n",
    "            \"sequences\": {\n",
    "                \"Beauty_1920x1080_120fps_420_8bit_YUV\": {\"width\": 1920, \"height\": 1080, \"frames\": 600, \"gop\": 32}\n",
    "            }\n",
    "        }\n",
    "    }\n",
    "}"
   ]
  },
  {
   "cell_type": "code",
   "execution_count": 1,
   "id": "initial_id",
   "metadata": {
    "ExecuteTime": {
     "end_time": "2024-04-16T23:23:50.792954Z",
     "start_time": "2024-04-16T23:23:49.357844Z"
    },
    "collapsed": true
   },
   "outputs": [
    {
     "ename": "ModuleNotFoundError",
     "evalue": "No module named 'test_data_to_png'",
     "output_type": "error",
     "traceback": [
      "\u001b[0;31m---------------------------------------------------------------------------\u001b[0m",
      "\u001b[0;31mModuleNotFoundError\u001b[0m                       Traceback (most recent call last)",
      "Cell \u001b[0;32mIn[1], line 1\u001b[0m\n\u001b[0;32m----> 1\u001b[0m \u001b[38;5;28;01mfrom\u001b[39;00m \u001b[38;5;21;01mtest_data_to_png\u001b[39;00m \u001b[38;5;28;01mimport\u001b[39;00m convert_one_seq_to_png \n",
      "\u001b[0;31mModuleNotFoundError\u001b[0m: No module named 'test_data_to_png'"
     ]
    }
   ],
   "source": [
    "from test_data_to_png import convert_one_seq_to_png "
   ]
  },
  {
   "cell_type": "code",
   "execution_count": 13,
   "id": "96321a0433d83a9e",
   "metadata": {
    "ExecuteTime": {
     "end_time": "2024-04-16T23:35:05.208783Z",
     "start_time": "2024-04-16T23:24:36.355644Z"
    }
   },
   "outputs": [
    {
     "name": "stdout",
     "output_type": "stream",
     "text": [
      "input/Beauty_1920x1080_120fps_420_8bit_YUV.yuv 600\n"
     ]
    }
   ],
   "source": [
    "src_path = \"input/Beauty_1920x1080_120fps_420_8bit_YUV.yuv\"\n",
    "width = 1920\n",
    "height = 1080\n",
    "dst_path = \"media/UVG/Beauty_1920x1080_120fps_420_8bit_YUV\"\n",
    "convert_one_seq_to_png(src_path, width, height, dst_path)"
   ]
  },
  {
   "cell_type": "markdown",
   "id": "c22945022ba78655",
   "metadata": {},
   "source": [
    "## Downsampling images\n",
    "\n",
    "Having faster inference time and easier learning would be very beneficial"
   ]
  },
  {
   "cell_type": "code",
   "execution_count": 1,
   "id": "f4af3672",
   "metadata": {},
   "outputs": [],
   "source": [
    "import os\n",
    "from tqdm import tqdm\n",
    "from subprocess import DEVNULL, STDOUT, check_call"
   ]
  },
  {
   "cell_type": "code",
   "execution_count": 2,
   "id": "843a0711",
   "metadata": {},
   "outputs": [],
   "source": [
    "def downscale_pictures(src_dir, md_dir, target_width = 640): \n",
    "    for root, dir, files in os.walk(src_dir):\n",
    "        for file in tqdm(files, desc=\"Downscaling files from \" + src_dir):\n",
    "            (_, ext) = os.path.splitext(file)\n",
    "            total_path = os.path.join(root, file)\n",
    "            move_path = total_path.replace(src_dir, md_dir)\n",
    "\n",
    "            move_dir = os.path.dirname(move_path)\n",
    "            if not os.path.exists(move_dir):\n",
    "                os.makedirs(move_dir, exist_ok=True)\n",
    "\n",
    "            if ext == '.png':    \n",
    "              # execute ffmpeg command to downscale the image without sysout\n",
    "              check_call(['/usr/bin/ffmpeg', '-i', total_path, '-vf', f\"scale={target_width}:-1\", move_path], stdout=DEVNULL, stderr=STDOUT)"
   ]
  },
  {
   "cell_type": "code",
   "execution_count": 3,
   "id": "89d73216",
   "metadata": {},
   "outputs": [
    {
     "name": "stderr",
     "output_type": "stream",
     "text": [
      "Downscaling files from ../media/syntetic/frequent_dataset_0/: 100%|██████████| 1001/1001 [03:35<00:00,  4.65it/s]\n"
     ]
    }
   ],
   "source": [
    "src_dir = \"../media/syntetic/frequent_dataset_0/\"\n",
    "\n",
    "downscale_pictures(src_dir, src_dir.replace(\"syntetic\", \"syntetic-low\"), 640)"
   ]
  },
  {
   "cell_type": "code",
   "execution_count": null,
   "id": "c05f2007",
   "metadata": {},
   "outputs": [],
   "source": []
  }
 ],
 "metadata": {
  "kernelspec": {
   "display_name": "Python 3",
   "language": "python",
   "name": "python3"
  },
  "language_info": {
   "codemirror_mode": {
    "name": "ipython",
    "version": 3
   },
   "file_extension": ".py",
   "mimetype": "text/x-python",
   "name": "python",
   "nbconvert_exporter": "python",
   "pygments_lexer": "ipython3",
   "version": "3.10.12"
  }
 },
 "nbformat": 4,
 "nbformat_minor": 5
}
