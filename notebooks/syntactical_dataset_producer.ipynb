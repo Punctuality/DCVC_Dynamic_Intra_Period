{
 "cells": [
  {
   "cell_type": "code",
   "execution_count": 1,
   "metadata": {
    "metadata": {}
   },
   "outputs": [],
   "source": [
    "import os\n",
    "import random\n",
    "from torch.utils.data import Dataset, DataLoader\n",
    "import json\n",
    "from tqdm.auto import tqdm"
   ]
  },
  {
   "cell_type": "code",
   "execution_count": 2,
   "metadata": {
    "metadata": {}
   },
   "outputs": [
    {
     "name": "stdout",
     "output_type": "stream",
     "text": [
      "/workspace/DCVC_Dynamic_Intra_Period\n"
     ]
    },
    {
     "name": "stderr",
     "output_type": "stream",
     "text": [
      "/workspace/DCVC_Dynamic_Intra_Period/venv/lib/python3.10/site-packages/IPython/core/magics/osm.py:417: UserWarning: This is now an optional IPython functionality, setting dhist requires you to install the `pickleshare` library.\n",
      "  self.shell.db['dhist'] = compress_dhist(dhist)[-100:]\n"
     ]
    }
   ],
   "source": [
    "%cd /workspace/DCVC_Dynamic_Intra_Period"
   ]
  },
  {
   "cell_type": "code",
   "execution_count": 3,
   "metadata": {
    "metadata": {}
   },
   "outputs": [],
   "source": [
    "def frame_name_by_idx(idx):\n",
    "    return f\"im{str(idx).zfill(5)}.png\"\n",
    "\n",
    "class VideoFrameDataset:\n",
    "    def __init__(self, root_dir, required_frames, sequences_size = [100, 300], transform=None, seq_types = [\"normal\", \"bounce\"]):\n",
    "        self.root_dir = root_dir\n",
    "        self.video_folders = [os.path.join(root_dir, folder) for folder in os.listdir(root_dir) if os.path.isdir(os.path.join(root_dir, folder))]\n",
    "        self.required_frames = required_frames\n",
    "        self.transform = transform\n",
    "        self.sequences_size = sequences_size\n",
    "        self.seq_types = seq_types\n",
    "\n",
    "        self.emitted = 0\n",
    "        self.choose_flow = True # If False continue in the current flow\n",
    "        self.seq_len = None\n",
    "        self.growing = True\n",
    "        self.remaining_in_flow = None\n",
    "        self.seq_type = None \n",
    "        self.last_frame_idx = None\n",
    "        self.folder = None\n",
    "\n",
    "    def __len__(self):\n",
    "        return self.required_frames\n",
    "\n",
    "    def next(self):\n",
    "        reference_point = False\n",
    "        if self.choose_flow:\n",
    "            self.choose_flow = False\n",
    "            self.seq_type = random.choice(self.seq_types)\n",
    "            self.seq_len = min(\n",
    "                random.randint(self.sequences_size[0], self.sequences_size[1]) * (2 if self.seq_type == \"bounce\" else 1),\n",
    "                self.required_frames - self.emitted\n",
    "            )\n",
    "            self.remaining_in_flow = self.seq_len\n",
    "            self.folder = random.choice(self.video_folders)\n",
    "\n",
    "            folder_size = len([pic for pic in os.listdir(self.folder) if os.path.isfile(os.path.join(self.folder, pic))])\n",
    "            self.last_frame_idx = random.randint(0, folder_size - (self.seq_len // (2 if self.seq_type == \"bounce\" else 1)))\n",
    "            self.growing = True\n",
    "            reference_point = True\n",
    "        \n",
    "        if self.seq_type == \"bounce\":\n",
    "            if self.remaining_in_flow * 2 == self.seq_len:\n",
    "                self.growing = False\n",
    "\n",
    "        resulted_frame = os.path.join(self.folder, frame_name_by_idx(self.last_frame_idx))\n",
    "\n",
    "        self.last_frame_idx += 1 if self.growing else -1\n",
    "        self.remaining_in_flow -= 1\n",
    "        self.emitted += 1\n",
    "\n",
    "        if self.remaining_in_flow == 0:\n",
    "            self.choose_flow = True\n",
    "\n",
    "        return resulted_frame, reference_point    \n",
    "          "
   ]
  },
  {
   "cell_type": "code",
   "execution_count": 4,
   "metadata": {
    "metadata": {}
   },
   "outputs": [],
   "source": [
    "def produce_syntetic_dataset(frames, source_folder, root_folder, dataset_name, range_size = [100, 300], seq_types = [\"normal\", \"bounce\"]):\n",
    "  folder_path = os.path.join(root_folder, dataset_name)\n",
    "  os.makedirs(folder_path, exist_ok=True)\n",
    "\n",
    "  dataset = VideoFrameDataset(source_folder, frames, range_size, seq_types=seq_types)\n",
    "\n",
    "  ref_points = []\n",
    "\n",
    "  for i in range(frames):\n",
    "    frame, reference_point = dataset.next()\n",
    "\n",
    "    if reference_point:\n",
    "      ref_points.append(i + 1)\n",
    "\n",
    "    os.symlink(frame, os.path.join(folder_path, frame_name_by_idx(i + 1)))\n",
    "\n",
    "  with open(os.path.join(folder_path, \"reference_points.json\"), \"w\") as f:\n",
    "    json.dump(ref_points, f)\n",
    "\n",
    "  return folder_path"
   ]
  },
  {
   "cell_type": "code",
   "execution_count": 28,
   "metadata": {
    "metadata": {}
   },
   "outputs": [
    {
     "data": {
      "application/vnd.jupyter.widget-view+json": {
       "model_id": "ed41fb6c824b4049a4e8a06cb9c191b1",
       "version_major": 2,
       "version_minor": 0
      },
      "text/plain": [
       "Generating datasets:   0%|          | 0/10 [00:00<?, ?it/s]"
      ]
     },
     "metadata": {},
     "output_type": "display_data"
    }
   ],
   "source": [
    "for i in tqdm(range(10), desc=\"Generating datasets\"):\n",
    "  produce_syntetic_dataset(1800, \"/workspace/DCVC_Dynamic_Intra_Period/media/UVG/\", \"/workspace/DCVC_Dynamic_Intra_Period/media/syntetic/\", f\"dataset_{i}\")"
   ]
  },
  {
   "cell_type": "code",
   "execution_count": 15,
   "metadata": {
    "metadata": {}
   },
   "outputs": [
    {
     "data": {
      "application/vnd.jupyter.widget-view+json": {
       "model_id": "1e074fa5b06b46ae8726929710c34ce1",
       "version_major": 2,
       "version_minor": 0
      },
      "text/plain": [
       "Generating datasets:   0%|          | 0/10 [00:00<?, ?it/s]"
      ]
     },
     "metadata": {},
     "output_type": "display_data"
    }
   ],
   "source": [
    "for i in tqdm(range(10), desc=\"Generating datasets\"):\n",
    "  produce_syntetic_dataset(600, \"/workspace/DCVC_Dynamic_Intra_Period/media/UVG/\", \"/workspace/DCVC_Dynamic_Intra_Period/media/syntetic/\", f\"short_dataset_{i}\", [100, 200])"
   ]
  },
  {
   "cell_type": "code",
   "execution_count": 17,
   "metadata": {
    "metadata": {}
   },
   "outputs": [
    {
     "data": {
      "application/vnd.jupyter.widget-view+json": {
       "model_id": "e64a6c7d436f47a396e1a9820b6af6a4",
       "version_major": 2,
       "version_minor": 0
      },
      "text/plain": [
       "Generating datasets:   0%|          | 0/1 [00:00<?, ?it/s]"
      ]
     },
     "metadata": {},
     "output_type": "display_data"
    }
   ],
   "source": [
    "for i in tqdm(range(1), desc=\"Generating datasets\"):\n",
    "  produce_syntetic_dataset(1000, \"/workspace/DCVC_Dynamic_Intra_Period/media/UVG/\", \"/workspace/DCVC_Dynamic_Intra_Period/media/syntetic/\", f\"frequent_dataset_{i}\", [10, 50])"
   ]
  },
  {
   "cell_type": "code",
   "execution_count": 18,
   "metadata": {
    "metadata": {}
   },
   "outputs": [
    {
     "data": {
      "application/vnd.jupyter.widget-view+json": {
       "model_id": "ff4ed3e4e0d547cb871b9f88a4cea361",
       "version_major": 2,
       "version_minor": 0
      },
      "text/plain": [
       "Generating datasets:   0%|          | 0/1 [00:00<?, ?it/s]"
      ]
     },
     "metadata": {},
     "output_type": "display_data"
    }
   ],
   "source": [
    "for i in tqdm(range(1), desc=\"Generating datasets\"):\n",
    "  produce_syntetic_dataset(100, \"/workspace/DCVC_Dynamic_Intra_Period/media/UVG/\", \"/workspace/DCVC_Dynamic_Intra_Period/media/syntetic/\", f\"small_dataset_{i}\", [10, 50])"
   ]
  },
  {
   "cell_type": "code",
   "execution_count": 22,
   "metadata": {
    "metadata": {}
   },
   "outputs": [
    {
     "data": {
      "application/vnd.jupyter.widget-view+json": {
       "model_id": "eac51d6e17ba407a8f11dc3ac280c374",
       "version_major": 2,
       "version_minor": 0
      },
      "text/plain": [
       "Generating datasets:   0%|          | 0/1 [00:00<?, ?it/s]"
      ]
     },
     "metadata": {},
     "output_type": "display_data"
    }
   ],
   "source": [
    "for i in tqdm(range(1), desc=\"Generating datasets\"):\n",
    "  produce_syntetic_dataset(400, \"/workspace/DCVC_Dynamic_Intra_Period/media/UVG/\", \"/workspace/DCVC_Dynamic_Intra_Period/media/syntetic/\", f\"straight_dataset_{i}\", [200, 200], seq_types=[\"bounce\"])"
   ]
  },
  {
   "cell_type": "code",
   "execution_count": 5,
   "metadata": {
    "metadata": {}
   },
   "outputs": [
    {
     "data": {
      "application/vnd.jupyter.widget-view+json": {
       "model_id": "fa81cb88711f460b88747ffbe35b0e0e",
       "version_major": 2,
       "version_minor": 0
      },
      "text/plain": [
       "Generating datasets:   0%|          | 0/1 [00:00<?, ?it/s]"
      ]
     },
     "metadata": {},
     "output_type": "display_data"
    }
   ],
   "source": [
    "for i in tqdm(range(1), desc=\"Generating datasets\"):\n",
    "  produce_syntetic_dataset(3000, \"/workspace/DCVC_Dynamic_Intra_Period/media/UVG/\", \"/workspace/DCVC_Dynamic_Intra_Period/media/syntetic/\", f\"predictor_dataset_{i}\", [32, 256])"
   ]
  },
  {
   "cell_type": "code",
   "execution_count": 5,
   "metadata": {
    "metadata": {}
   },
   "outputs": [
    {
     "data": {
      "application/vnd.jupyter.widget-view+json": {
       "model_id": "947153c085784175ab7f42df559f05cb",
       "version_major": 2,
       "version_minor": 0
      },
      "text/plain": [
       "Generating datasets:   0%|          | 0/1 [00:00<?, ?it/s]"
      ]
     },
     "metadata": {},
     "output_type": "display_data"
    }
   ],
   "source": [
    "for i in tqdm(range(1), desc=\"Generating datasets\"):\n",
    "  produce_syntetic_dataset(3000, \"/workspace/DCVC_Dynamic_Intra_Period/media/UVG-LOW/\", \"/workspace/DCVC_Dynamic_Intra_Period/media/syntetic-low/\", f\"predictor_dataset_{i}\", [32, 256])"
   ]
  },
  {
   "cell_type": "code",
   "execution_count": null,
   "metadata": {},
   "outputs": [],
   "source": []
  }
 ],
 "metadata": {
  "kernelspec": {
   "display_name": "venv",
   "language": "python",
   "name": "python3"
  },
  "language_info": {
   "codemirror_mode": {
    "name": "ipython",
    "version": 3
   },
   "file_extension": ".py",
   "mimetype": "text/x-python",
   "name": "python",
   "nbconvert_exporter": "python",
   "pygments_lexer": "ipython3",
   "version": "3.10.12"
  }
 },
 "nbformat": 4,
 "nbformat_minor": 2
}
