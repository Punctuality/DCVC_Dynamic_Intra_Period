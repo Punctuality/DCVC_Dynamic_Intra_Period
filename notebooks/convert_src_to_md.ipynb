{
 "cells": [
  {
   "cell_type": "code",
   "execution_count": 1,
   "id": "initial_id",
   "metadata": {
    "ExecuteTime": {
     "end_time": "2024-04-14T19:02:12.920414Z",
     "start_time": "2024-04-14T19:02:12.917565Z"
    },
    "collapsed": true
   },
   "outputs": [],
   "source": [
    "import os"
   ]
  },
  {
   "cell_type": "code",
   "execution_count": 19,
   "id": "5e6245a9b5276187",
   "metadata": {
    "ExecuteTime": {
     "end_time": "2024-04-14T19:27:57.448424Z",
     "start_time": "2024-04-14T19:27:57.443057Z"
    }
   },
   "outputs": [],
   "source": [
    "# Walk recursevly on specified directory and rename every file\n",
    "\n",
    "markdown_code_notation = \"```\"\n",
    "\n",
    "markdown_python_notation = \"python\"\n",
    "markdown_cpp_notation = \"cpp\"\n",
    "\n",
    "def convert_src_to_md(src_dir, md_dir): \n",
    "    for root, dir, files in os.walk(src_dir):\n",
    "        for file in files:\n",
    "            (name, ext) = os.path.splitext(file)\n",
    "            total_path = os.path.join(root, file)\n",
    "            move_path = os.path.splitext(total_path.replace(src_dir, md_dir))[0] + \".md\"\n",
    "            code_notation = \"\"\n",
    "            if ext == '.py':\n",
    "                code_notation = markdown_python_notation\n",
    "            elif ext == '.cpp' or ext == '.cxx' or ext == '.h' or ext == '.hpp':\n",
    "                code_notation = markdown_cpp_notation\n",
    "                \n",
    "            with open(total_path, 'r') as r:\n",
    "                lines = r.readlines()\n",
    "                os.makedirs(os.path.dirname(move_path), exist_ok=True)\n",
    "                with open(move_path, 'w') as w:\n",
    "                    w.write(\"Description:\\n\\nTODO Desc\\n\\n---\\n\\n\")\n",
    "                    w.write(\"References:\\n\\nTODO Fill in here\\n\\n---\\n\\n\")\n",
    "                    w.write(f\"`{file}`\\n\" + f\"\\n{markdown_code_notation}{code_notation}\\n\")\n",
    "                    w.writelines(lines)\n",
    "                    w.write(f\"{markdown_code_notation}\\n\")"
   ]
  },
  {
   "cell_type": "code",
   "execution_count": 20,
   "id": "795f061b78179d53",
   "metadata": {
    "ExecuteTime": {
     "end_time": "2024-04-14T19:27:57.598881Z",
     "start_time": "2024-04-14T19:27:57.588201Z"
    }
   },
   "outputs": [],
   "source": [
    "convert_src_to_md(\"/Users/sdfedorov/Documents/ITMO/Master/Thesis/DCVC/DCVC-FM/src\", \"/Users/sdfedorov/Documents/Obsidianium/Thesis/DCVC Understanding/\")"
   ]
  },
  {
   "cell_type": "markdown",
   "id": "529bdf5e2d565ec3",
   "metadata": {},
   "source": [
    "Hello there\n"
   ]
  }
 ],
 "metadata": {
  "kernelspec": {
   "display_name": "Python 3",
   "language": "python",
   "name": "python3"
  },
  "language_info": {
   "codemirror_mode": {
    "name": "ipython",
    "version": 2
   },
   "file_extension": ".py",
   "mimetype": "text/x-python",
   "name": "python",
   "nbconvert_exporter": "python",
   "pygments_lexer": "ipython2",
   "version": "2.7.6"
  }
 },
 "nbformat": 4,
 "nbformat_minor": 5
}
